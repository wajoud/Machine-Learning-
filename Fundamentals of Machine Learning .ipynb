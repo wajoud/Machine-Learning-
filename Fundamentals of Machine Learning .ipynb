{
 "cells": [
  {
   "cell_type": "markdown",
   "metadata": {},
   "source": [
    "# Fundamentals of Machine Learning \n",
    "                                  "
   ]
  },
  {
   "cell_type": "code",
   "execution_count": 1,
   "metadata": {},
   "outputs": [],
   "source": [
    "# importing all the modules required\n",
    "import numpy as np\n",
    "import pandas as pd \n",
    "import matplotlib.pyplot as plt"
   ]
  },
  {
   "cell_type": "markdown",
   "metadata": {},
   "source": [
    " 1 .Obtain the hypothesis space search by Find-S for the given training examples. "
   ]
  },
  {
   "cell_type": "code",
   "execution_count": 2,
   "metadata": {},
   "outputs": [],
   "source": [
    "#1.\tObtain the hypothesis space search by Find-S for the given training examples.\n",
    "sky=['sunny','sunny','rainy','sunny']\n",
    "airtemp=['warm','warm','cold','warm']\n",
    "hum=['normal','high','high','high']\n",
    "wind=['strong','strong','strong','strong']\n",
    "water=['warm','warm','warm','cool']\n",
    "fc=['same','same','change','change']\n",
    "esport=['yes','yes','no','yes']"
   ]
  },
  {
   "cell_type": "code",
   "execution_count": 3,
   "metadata": {},
   "outputs": [],
   "source": [
    "data={\"Sky\":sky,\"Airtemp\":airtemp,'Humidity':hum,'Wind':wind,'Water':water,'Forecast':fc,'Enjoysport':esport}"
   ]
  },
  {
   "cell_type": "code",
   "execution_count": 4,
   "metadata": {},
   "outputs": [],
   "source": [
    "df=pd.DataFrame(data)"
   ]
  },
  {
   "cell_type": "code",
   "execution_count": 5,
   "metadata": {},
   "outputs": [],
   "source": [
    "df.to_csv('sport.csv')"
   ]
  },
  {
   "cell_type": "code",
   "execution_count": 6,
   "metadata": {},
   "outputs": [
    {
     "name": "stdout",
     "output_type": "stream",
     "text": [
      "the maximally hypothesis  is: ['sunny', 'warm', '?', 'strong', '?', '?']\n"
     ]
    }
   ],
   "source": [
    "#initial value of hypothesis\n",
    "h=['0']*6\n",
    "for instance in df.values:\n",
    "    if instance[-1]=='yes':\n",
    "        for j in range(len(h)):\n",
    "            if (h[j]=='0' or h[j]==instance[j]):\n",
    "                h[j]=instance[j]\n",
    "            elif h[j]!=instance[j]:\n",
    "                h[j]='?'\n",
    "print(\"the maximally hypothesis  is:\",h)"
   ]
  },
  {
   "cell_type": "markdown",
   "metadata": {},
   "source": [
    "2.Apply Candidate Elimination Algorithm for the given training examples to obtain a hypothesis space. "
   ]
  },
  {
   "cell_type": "code",
   "execution_count": 7,
   "metadata": {},
   "outputs": [],
   "source": [
    "import csv\n",
    "with open('sport.csv')  as csvFile:\n",
    "        examples = [tuple(line[1:]) for line in csv.reader(csvFile)]\n",
    "df=examples[1:]"
   ]
  },
  {
   "cell_type": "code",
   "execution_count": 8,
   "metadata": {},
   "outputs": [
    {
     "data": {
      "text/plain": [
       "[('sunny', 'warm', 'normal', 'strong', 'warm', 'same', 'yes'),\n",
       " ('sunny', 'warm', 'high', 'strong', 'warm', 'same', 'yes'),\n",
       " ('rainy', 'cold', 'high', 'strong', 'warm', 'change', 'no'),\n",
       " ('sunny', 'warm', 'high', 'strong', 'cool', 'change', 'yes')]"
      ]
     },
     "execution_count": 8,
     "metadata": {},
     "output_type": "execute_result"
    }
   ],
   "source": [
    "df"
   ]
  },
  {
   "cell_type": "code",
   "execution_count": 9,
   "metadata": {},
   "outputs": [],
   "source": [
    "\n",
    "def g_0(n):\n",
    "    return (\"?\",)*n\n",
    "\n",
    "def s_0(n):\n",
    "    return ('0',)*n\n",
    "\n"
   ]
  },
  {
   "cell_type": "code",
   "execution_count": 10,
   "metadata": {},
   "outputs": [],
   "source": [
    "def more_general(h1, h2):\n",
    "    more_general_parts = []\n",
    "    for x, y in zip(h1, h2):\n",
    "        mg = x == \"?\" or (x != \"0\" and (x == y or y == \"0\"))\n",
    "        more_general_parts.append(mg)\n",
    "    return all(more_general_parts)\n",
    "        "
   ]
  },
  {
   "cell_type": "code",
   "execution_count": 11,
   "metadata": {},
   "outputs": [],
   "source": [
    "def fulfills(df, hypothesis):\n",
    "    ### the implementation is the same as for hypotheses:\n",
    "    return more_general(hypothesis, df)\n",
    "\n",
    "def min_generalizations(h, x):\n",
    "    h_new = list(h)\n",
    "    for i in range(len(h)):\n",
    "        if not fulfills(x[i:i+1], h[i:i+1]):\n",
    "            h_new[i] = '?' if h[i] != '0' else x[i]\n",
    "    return [tuple(h_new)]"
   ]
  },
  {
   "cell_type": "code",
   "execution_count": 12,
   "metadata": {},
   "outputs": [],
   "source": [
    "def min_specializations(h, domains, x):\n",
    "    results = []\n",
    "    for i in range(len(h)):\n",
    "        if h[i] == \"?\":\n",
    "            for val in domains[i]:\n",
    "                if x[i] != val:\n",
    "                    h_new = h[:i] + (val,) + h[i+1:]\n",
    "                    results.append(h_new)\n",
    "        elif h[i] != \"0\":\n",
    "            h_new = h[:i] + ('0',) + h[i+1:]\n",
    "            results.append(h_new)\n",
    "    return results"
   ]
  },
  {
   "cell_type": "code",
   "execution_count": 13,
   "metadata": {},
   "outputs": [],
   "source": [
    "def get_domains(df):\n",
    "    d = [set() for i in df[0]]\n",
    "    for x in df:\n",
    "        for i, xi in enumerate(x):\n",
    "            d[i].add(xi)\n",
    "    return [list(sorted(x)) for x in d]"
   ]
  },
  {
   "cell_type": "code",
   "execution_count": 14,
   "metadata": {},
   "outputs": [],
   "source": [
    "def generalize_S(x, G, S):\n",
    "    S_prev = set(S)\n",
    "    for s in S_prev:\n",
    "        if s not in S:\n",
    "            continue\n",
    "        if not fulfills(x, s):\n",
    "            S.remove(s)\n",
    "            Splus = min_generalizations(s, x)\n",
    "            ## keep only generalizations that have a counterpart in G\n",
    "            S.update([h for h in Splus if any([more_general(g,h) \n",
    "                                               for g in G])])\n",
    "            ## remove hypotheses less specific than any other in S\n",
    "            S.difference_update([h for h in S if \n",
    "                                 any([more_general(h, h1) \n",
    "                                      for h1 in S if h != h1])])\n",
    "    return S"
   ]
  },
  {
   "cell_type": "code",
   "execution_count": 15,
   "metadata": {},
   "outputs": [],
   "source": [
    "def specialize_G(x, domains, G, S):\n",
    "    G_prev = list(G)\n",
    "    for g in G_prev:\n",
    "        if g not in G:\n",
    "            continue\n",
    "        if fulfills(x, g):\n",
    "            G.remove(g)\n",
    "            Gminus = min_specializations(g, domains, x)\n",
    "            ## keep only specializations that have a conuterpart in S\n",
    "            G.update([h for h in Gminus if any([more_general(h, s)\n",
    "                                                for s in S])])\n",
    "            ## remove hypotheses less general than any other in G\n",
    "            G.difference_update([h for h in G if \n",
    "                                 any([more_general(g1, h) \n",
    "                                      for g1 in G if h != g1])])\n",
    "    return G"
   ]
  },
  {
   "cell_type": "code",
   "execution_count": 16,
   "metadata": {},
   "outputs": [],
   "source": [
    "def candidate_elimination(df):\n",
    "    domains = get_domains(df)[:-1]\n",
    "    \n",
    "    G = set([g_0(len(domains)-1)])\n",
    "    S = set([s_0(len(domains)-1)])\n",
    "    i=0\n",
    "    print(\"\\n G[{0}]:\".format(i),G)\n",
    "    print(\"\\n S[{0}]:\".format(i),S)\n",
    "    for xcx in df:\n",
    "        i=i+1\n",
    "        x, cx = xcx[:-1], xcx[-1]  # Splitting data into attributes and decisions\n",
    "        if cx=='yes': # x is positive example\n",
    "            G = {g for g in G if fulfills(x, g)}\n",
    "            S = generalize_S(x, G, S)\n",
    "        else: # x is negative example\n",
    "            S = {s for s in S if not fulfills(x, s)}\n",
    "            G = specialize_G(x, domains, G, S)\n",
    "        print(\"\\n G[{0}]:\".format(i),G)\n",
    "        print(\"\\n S[{0}]:\".format(i),S)\n",
    "    return"
   ]
  },
  {
   "cell_type": "code",
   "execution_count": 17,
   "metadata": {
    "scrolled": true
   },
   "outputs": [
    {
     "name": "stdout",
     "output_type": "stream",
     "text": [
      "\n",
      " G[0]: {('?', '?', '?', '?', '?')}\n",
      "\n",
      " S[0]: {('0', '0', '0', '0', '0')}\n",
      "\n",
      " G[1]: {('?', '?', '?', '?', '?')}\n",
      "\n",
      " S[1]: {('sunny', 'warm', 'normal', 'strong', 'warm')}\n",
      "\n",
      " G[2]: {('?', '?', '?', '?', '?')}\n",
      "\n",
      " S[2]: {('sunny', 'warm', '?', 'strong', 'warm')}\n",
      "\n",
      " G[3]: {('sunny', '?', '?', '?', '?'), ('?', 'warm', '?', '?', '?')}\n",
      "\n",
      " S[3]: {('sunny', 'warm', '?', 'strong', 'warm')}\n",
      "\n",
      " G[4]: {('sunny', '?', '?', '?', '?'), ('?', 'warm', '?', '?', '?')}\n",
      "\n",
      " S[4]: {('sunny', 'warm', '?', 'strong', '?')}\n"
     ]
    }
   ],
   "source": [
    "candidate_elimination(df)"
   ]
  },
  {
   "cell_type": "markdown",
   "metadata": {},
   "source": [
    "# 3. Use ID3 Algorithm to develop the decision tree support system for the following training data set."
   ]
  },
  {
   "cell_type": "code",
   "execution_count": 81,
   "metadata": {},
   "outputs": [
    {
     "data": {
      "text/html": [
       "<div>\n",
       "<style scoped>\n",
       "    .dataframe tbody tr th:only-of-type {\n",
       "        vertical-align: middle;\n",
       "    }\n",
       "\n",
       "    .dataframe tbody tr th {\n",
       "        vertical-align: top;\n",
       "    }\n",
       "\n",
       "    .dataframe thead th {\n",
       "        text-align: right;\n",
       "    }\n",
       "</style>\n",
       "<table border=\"1\" class=\"dataframe\">\n",
       "  <thead>\n",
       "    <tr style=\"text-align: right;\">\n",
       "      <th></th>\n",
       "      <th>sky</th>\n",
       "      <th>airtemp</th>\n",
       "      <th>humidity</th>\n",
       "      <th>wind</th>\n",
       "      <th>Enjoy sport</th>\n",
       "    </tr>\n",
       "  </thead>\n",
       "  <tbody>\n",
       "    <tr>\n",
       "      <td>0</td>\n",
       "      <td>sunny</td>\n",
       "      <td>hot</td>\n",
       "      <td>high</td>\n",
       "      <td>weak</td>\n",
       "      <td>no</td>\n",
       "    </tr>\n",
       "    <tr>\n",
       "      <td>1</td>\n",
       "      <td>sunny</td>\n",
       "      <td>hot</td>\n",
       "      <td>high</td>\n",
       "      <td>strong</td>\n",
       "      <td>no</td>\n",
       "    </tr>\n",
       "    <tr>\n",
       "      <td>2</td>\n",
       "      <td>overcast</td>\n",
       "      <td>hot</td>\n",
       "      <td>high</td>\n",
       "      <td>weak</td>\n",
       "      <td>yes</td>\n",
       "    </tr>\n",
       "    <tr>\n",
       "      <td>3</td>\n",
       "      <td>rain</td>\n",
       "      <td>mild</td>\n",
       "      <td>high</td>\n",
       "      <td>weak</td>\n",
       "      <td>yes</td>\n",
       "    </tr>\n",
       "    <tr>\n",
       "      <td>4</td>\n",
       "      <td>rain</td>\n",
       "      <td>cool</td>\n",
       "      <td>normal</td>\n",
       "      <td>weak</td>\n",
       "      <td>yes</td>\n",
       "    </tr>\n",
       "    <tr>\n",
       "      <td>5</td>\n",
       "      <td>rain</td>\n",
       "      <td>cool</td>\n",
       "      <td>normal</td>\n",
       "      <td>strong</td>\n",
       "      <td>no</td>\n",
       "    </tr>\n",
       "    <tr>\n",
       "      <td>6</td>\n",
       "      <td>overcast</td>\n",
       "      <td>cool</td>\n",
       "      <td>normal</td>\n",
       "      <td>strong</td>\n",
       "      <td>yes</td>\n",
       "    </tr>\n",
       "    <tr>\n",
       "      <td>7</td>\n",
       "      <td>sunny</td>\n",
       "      <td>mild</td>\n",
       "      <td>high</td>\n",
       "      <td>weak</td>\n",
       "      <td>no</td>\n",
       "    </tr>\n",
       "    <tr>\n",
       "      <td>8</td>\n",
       "      <td>sunny</td>\n",
       "      <td>cool</td>\n",
       "      <td>normal</td>\n",
       "      <td>weak</td>\n",
       "      <td>yes</td>\n",
       "    </tr>\n",
       "    <tr>\n",
       "      <td>9</td>\n",
       "      <td>rain</td>\n",
       "      <td>mild</td>\n",
       "      <td>normal</td>\n",
       "      <td>weak</td>\n",
       "      <td>yes</td>\n",
       "    </tr>\n",
       "    <tr>\n",
       "      <td>10</td>\n",
       "      <td>sunny</td>\n",
       "      <td>mild</td>\n",
       "      <td>normal</td>\n",
       "      <td>strong</td>\n",
       "      <td>yes</td>\n",
       "    </tr>\n",
       "    <tr>\n",
       "      <td>11</td>\n",
       "      <td>overcast</td>\n",
       "      <td>mild</td>\n",
       "      <td>high</td>\n",
       "      <td>strong</td>\n",
       "      <td>yes</td>\n",
       "    </tr>\n",
       "    <tr>\n",
       "      <td>12</td>\n",
       "      <td>overcast</td>\n",
       "      <td>hot</td>\n",
       "      <td>normal</td>\n",
       "      <td>weak</td>\n",
       "      <td>yes</td>\n",
       "    </tr>\n",
       "    <tr>\n",
       "      <td>13</td>\n",
       "      <td>rain</td>\n",
       "      <td>mild</td>\n",
       "      <td>high</td>\n",
       "      <td>strong</td>\n",
       "      <td>no</td>\n",
       "    </tr>\n",
       "  </tbody>\n",
       "</table>\n",
       "</div>"
      ],
      "text/plain": [
       "         sky airtemp humidity    wind Enjoy sport\n",
       "0      sunny     hot     high    weak          no\n",
       "1      sunny     hot     high  strong          no\n",
       "2   overcast     hot     high    weak         yes\n",
       "3       rain    mild     high    weak         yes\n",
       "4       rain    cool   normal    weak         yes\n",
       "5       rain    cool   normal  strong          no\n",
       "6   overcast    cool   normal  strong         yes\n",
       "7      sunny    mild     high    weak          no\n",
       "8      sunny    cool   normal    weak         yes\n",
       "9       rain    mild   normal    weak         yes\n",
       "10     sunny    mild   normal  strong         yes\n",
       "11  overcast    mild     high  strong         yes\n",
       "12  overcast     hot   normal    weak         yes\n",
       "13      rain    mild     high  strong          no"
      ]
     },
     "execution_count": 81,
     "metadata": {},
     "output_type": "execute_result"
    }
   ],
   "source": [
    "df2=pd.read_csv(\"sport1.csv\")\n",
    "dataset=pd.read_csv('sport1.csv')\n",
    "dataset=dataset.iloc[:,1:6]\n",
    "X=dataset.iloc[:,0:4].values\n",
    "y=dataset.iloc[:,-1].values\n",
    "dataset\n"
   ]
  },
  {
   "cell_type": "code",
   "execution_count": 80,
   "metadata": {},
   "outputs": [
    {
     "data": {
      "text/plain": [
       "array([['sunny', 'hot', 'high', 'weak'],\n",
       "       ['sunny', 'hot', 'high', 'strong'],\n",
       "       ['overcast', 'hot', 'high', 'weak'],\n",
       "       ['rain', 'mild', 'high', 'weak'],\n",
       "       ['rain', 'cool', 'normal', 'weak'],\n",
       "       ['rain', 'cool', 'normal', 'strong'],\n",
       "       ['overcast', 'cool', 'normal', 'strong'],\n",
       "       ['sunny', 'mild', 'high', 'weak'],\n",
       "       ['sunny', 'cool', 'normal', 'weak'],\n",
       "       ['rain', 'mild', 'normal', 'weak'],\n",
       "       ['sunny', 'mild', 'normal', 'strong'],\n",
       "       ['overcast', 'mild', 'high', 'strong'],\n",
       "       ['overcast', 'hot', 'normal', 'weak'],\n",
       "       ['rain', 'mild', 'high', 'strong']], dtype=object)"
      ]
     },
     "execution_count": 80,
     "metadata": {},
     "output_type": "execute_result"
    }
   ],
   "source": [
    "X"
   ]
  },
  {
   "cell_type": "code",
   "execution_count": 79,
   "metadata": {},
   "outputs": [
    {
     "data": {
      "text/plain": [
       "array(['no', 'no', 'yes', 'yes', 'yes', 'no', 'yes', 'no', 'yes', 'yes',\n",
       "       'yes', 'yes', 'yes', 'no'], dtype=object)"
      ]
     },
     "execution_count": 79,
     "metadata": {},
     "output_type": "execute_result"
    }
   ],
   "source": [
    "y"
   ]
  },
  {
   "cell_type": "code",
   "execution_count": 19,
   "metadata": {},
   "outputs": [
    {
     "name": "stdout",
     "output_type": "stream",
     "text": [
      "[0 0 1 1 1 0 1 0 1 1 1 1 1 0]\n"
     ]
    }
   ],
   "source": [
    "#categorical data\n",
    "from sklearn.preprocessing import LabelEncoder,OneHotEncoder\n",
    "labelencoder_X=LabelEncoder()\n",
    "X[:,0]=labelencoder_X.fit_transform(X[:,0])\n",
    "X[:,1]=labelencoder_X.fit_transform(X[:,1])\n",
    "X[:,2]=labelencoder_X.fit_transform(X[:,2])\n",
    "X[:,3]=labelencoder_X.fit_transform(X[:,3])\n",
    "labelencoder_y=LabelEncoder()\n",
    "y=labelencoder_y.fit_transform(y)\n",
    "print(y)"
   ]
  },
  {
   "cell_type": "code",
   "execution_count": 82,
   "metadata": {},
   "outputs": [
    {
     "data": {
      "text/plain": [
       "array(['sunny', 'sunny', 'overcast', 'rain', 'rain', 'rain', 'overcast',\n",
       "       'sunny', 'sunny', 'rain', 'sunny', 'overcast', 'overcast', 'rain'],\n",
       "      dtype=object)"
      ]
     },
     "execution_count": 82,
     "metadata": {},
     "output_type": "execute_result"
    }
   ],
   "source": [
    "X[:,0]"
   ]
  },
  {
   "cell_type": "code",
   "execution_count": 20,
   "metadata": {},
   "outputs": [],
   "source": [
    "#splitting the dataset into the training set and test set\n",
    "#model_selection=cross_validation\n",
    "from sklearn.model_selection import train_test_split\n",
    "X_train,X_test,y_train,y_test=train_test_split(X,y,test_size=0.2,random_state=0)\n",
    "#'sunny','cool','high','strong'"
   ]
  },
  {
   "cell_type": "code",
   "execution_count": 21,
   "metadata": {},
   "outputs": [],
   "source": [
    "\n",
    "#feature scaling\n",
    "from sklearn.preprocessing import StandardScaler\n",
    "sc=StandardScaler()\n",
    "X_train=sc.fit_transform(X_train)#it will learn and transform\n",
    "X_test=sc.transform(X_test)"
   ]
  },
  {
   "cell_type": "code",
   "execution_count": 22,
   "metadata": {},
   "outputs": [
    {
     "data": {
      "text/plain": [
       "DecisionTreeClassifier(class_weight=None, criterion='entropy', max_depth=None,\n",
       "                       max_features=None, max_leaf_nodes=None,\n",
       "                       min_impurity_decrease=0.0, min_impurity_split=None,\n",
       "                       min_samples_leaf=1, min_samples_split=2,\n",
       "                       min_weight_fraction_leaf=0.0, presort=False,\n",
       "                       random_state=0, splitter='best')"
      ]
     },
     "execution_count": 22,
     "metadata": {},
     "output_type": "execute_result"
    }
   ],
   "source": [
    "#Fitting Decision Tree classififcation to the training set\n",
    "from sklearn.tree import DecisionTreeClassifier\n",
    "classifier=DecisionTreeClassifier(criterion='entropy',random_state=0)\n",
    "classifier.fit(X_train,y_train)"
   ]
  },
  {
   "cell_type": "code",
   "execution_count": 23,
   "metadata": {},
   "outputs": [],
   "source": [
    "from sklearn import tree\n",
    "import matplotlib.pyplot as plt"
   ]
  },
  {
   "cell_type": "code",
   "execution_count": 24,
   "metadata": {},
   "outputs": [
    {
     "data": {
      "image/png": "[encoded data removed]",
      "text/plain": [
       "<Figure size 432x288 with 1 Axes>"
      ]
     },
     "metadata": {
      "needs_background": "light"
     },
     "output_type": "display_data"
    }
   ],
   "source": [
    "tree.plot_tree(classifier.fit(X_train, y_train))\n",
    "plt.show()"
   ]
  },
  {
   "cell_type": "markdown",
   "metadata": {},
   "source": [
    "5. Apply the naive Bayes classifier to a concept learning problem to classify days according to whether someone will \n",
    "play tennis. The table given below provides a set of 14 training examples of the target concept PlayTennis, \n",
    "where each day is described by the attributes Outlook, Temperature, Humidity, and Wind. "
   ]
  },
  {
   "cell_type": "code",
   "execution_count": 25,
   "metadata": {},
   "outputs": [],
   "source": [
    "# data \n",
    "sky=['sunny','sunny','overcast','rain','rain','rain','overcast','sunny','sunny','rain','sunny','overcast','overcast','rain']\n",
    "airtemp=['hot','hot','hot','mild','cool','cool','cool','mild','cool','mild','mild','mild','hot','mild']\n",
    "hum=['high','high','high','high','normal','normal','normal','high','normal','normal','normal','high','normal','high']\n",
    "wind=['weak','strong','weak','weak','weak','strong','strong','weak','weak','weak','strong','strong','weak','strong']\n",
    "esport=['no','no','yes','yes','yes','no','yes','no','yes','yes','yes','yes','yes','no']"
   ]
  },
  {
   "cell_type": "code",
   "execution_count": 26,
   "metadata": {},
   "outputs": [],
   "source": [
    "# Creating a csv file \n",
    "data={\"sky\":sky,'airtemp':airtemp,'humidity':hum,'wind':wind,'Enjoy sport':esport}\n",
    "df1=pd.DataFrame(data)\n",
    "df1.to_csv('sport1.csv')\n",
    "dataset=dataset.iloc[:,1:6]\n",
    "X=dataset.iloc[:,0:4].values\n",
    "y=dataset.iloc[:,-1].values"
   ]
  },
  {
   "cell_type": "markdown",
   "metadata": {},
   "source": [
    "Naives Bayes classification"
   ]
  },
  {
   "cell_type": "code",
   "execution_count": 85,
   "metadata": {},
   "outputs": [
    {
     "name": "stdout",
     "output_type": "stream",
     "text": [
      "object\n",
      "[0 0 1 1 1 0 1 0 1 1 1 1 1 0]\n"
     ]
    }
   ],
   "source": [
    "#categorical data\n",
    "from sklearn.preprocessing import LabelEncoder,OneHotEncoder\n",
    "labelencoder_X=LabelEncoder()\n",
    "X[:,0]=labelencoder_X.fit_transform(X[:,0])\n",
    "X[:,1]=labelencoder_X.fit_transform(X[:,1])\n",
    "X[:,2]=labelencoder_X.fit_transform(X[:,2])\n",
    "X[:,3]=labelencoder_X.fit_transform(X[:,3])\n",
    "#onehotencoder=OneHotEncoder(categorical_features=[0,1,2,3])\n",
    "#X=onehotencoder.fit_transform(X).toarray()\n",
    "print(X.dtype)\n",
    "labelencoder_y=LabelEncoder()\n",
    "y=labelencoder_y.fit_transform(y)\n",
    "print(y)\n",
    "#if there is more than three value we can use hotencoder\n",
    "#[2,0,0,0]\n"
   ]
  },
  {
   "cell_type": "code",
   "execution_count": 28,
   "metadata": {},
   "outputs": [],
   "source": [
    "#splitting the dataset into the training set and test set\n",
    "#model_selection=cross_validation\n",
    "from sklearn.model_selection import train_test_split\n",
    "X_train,X_test,y_train,y_test=train_test_split(X,y,test_size=0.01,random_state=0)\n",
    "#['sunny','cool','high','strong']"
   ]
  },
  {
   "cell_type": "code",
   "execution_count": 29,
   "metadata": {},
   "outputs": [
    {
     "data": {
      "text/plain": [
       "array([[-1.53960072,  1.08012345,  0.9258201 ,  0.79056942]])"
      ]
     },
     "execution_count": 29,
     "metadata": {},
     "output_type": "execute_result"
    }
   ],
   "source": [
    "#feature scaling\n",
    "from sklearn.preprocessing import StandardScaler\n",
    "sc=StandardScaler()\n",
    "X_train=sc.fit_transform(X_train)#it will learn and transform\n",
    "#X_test=[2,0,0,0]\n",
    "X_test=sc.transform(X_test)\n",
    "len(X_test)\n",
    "X_test"
   ]
  },
  {
   "cell_type": "code",
   "execution_count": 30,
   "metadata": {},
   "outputs": [
    {
     "data": {
      "text/plain": [
       "array([1])"
      ]
     },
     "execution_count": 30,
     "metadata": {},
     "output_type": "execute_result"
    }
   ],
   "source": [
    "#Fitting Naives Bayes classififcation to the training set\n",
    "from sklearn.naive_bayes import GaussianNB\n",
    "classifier=GaussianNB()\n",
    "classifier.fit(X_train,y_train)\n",
    "#X_test=np.array([2,0,0,0])\n",
    "#Predicting the test set results\n",
    "y_pred=classifier.predict(X_test)\n",
    "y_pred=classifier.predict(np.array([[2,0,0,0]]))#sunny,cool,high,strong\n",
    "y_pred"
   ]
  },
  {
   "cell_type": "markdown",
   "metadata": {},
   "source": [
    "6.\tDevelop a Decision Tree for the given data set and find the accuracy of the model."
   ]
  },
  {
   "cell_type": "code",
   "execution_count": 31,
   "metadata": {},
   "outputs": [
    {
     "data": {
      "text/html": [
       "<div>\n",
       "<style scoped>\n",
       "    .dataframe tbody tr th:only-of-type {\n",
       "        vertical-align: middle;\n",
       "    }\n",
       "\n",
       "    .dataframe tbody tr th {\n",
       "        vertical-align: top;\n",
       "    }\n",
       "\n",
       "    .dataframe thead th {\n",
       "        text-align: right;\n",
       "    }\n",
       "</style>\n",
       "<table border=\"1\" class=\"dataframe\">\n",
       "  <thead>\n",
       "    <tr style=\"text-align: right;\">\n",
       "      <th></th>\n",
       "      <th>User ID</th>\n",
       "      <th>Gender</th>\n",
       "      <th>Age</th>\n",
       "      <th>EstimatedSalary</th>\n",
       "      <th>Purchased</th>\n",
       "    </tr>\n",
       "  </thead>\n",
       "  <tbody>\n",
       "    <tr>\n",
       "      <td>0</td>\n",
       "      <td>15624510</td>\n",
       "      <td>Male</td>\n",
       "      <td>19</td>\n",
       "      <td>19000</td>\n",
       "      <td>0</td>\n",
       "    </tr>\n",
       "    <tr>\n",
       "      <td>1</td>\n",
       "      <td>15810944</td>\n",
       "      <td>Male</td>\n",
       "      <td>35</td>\n",
       "      <td>20000</td>\n",
       "      <td>0</td>\n",
       "    </tr>\n",
       "    <tr>\n",
       "      <td>2</td>\n",
       "      <td>15668575</td>\n",
       "      <td>Female</td>\n",
       "      <td>26</td>\n",
       "      <td>43000</td>\n",
       "      <td>0</td>\n",
       "    </tr>\n",
       "    <tr>\n",
       "      <td>3</td>\n",
       "      <td>15603246</td>\n",
       "      <td>Female</td>\n",
       "      <td>27</td>\n",
       "      <td>57000</td>\n",
       "      <td>0</td>\n",
       "    </tr>\n",
       "    <tr>\n",
       "      <td>4</td>\n",
       "      <td>15804002</td>\n",
       "      <td>Male</td>\n",
       "      <td>19</td>\n",
       "      <td>76000</td>\n",
       "      <td>0</td>\n",
       "    </tr>\n",
       "  </tbody>\n",
       "</table>\n",
       "</div>"
      ],
      "text/plain": [
       "    User ID  Gender  Age  EstimatedSalary  Purchased\n",
       "0  15624510    Male   19            19000          0\n",
       "1  15810944    Male   35            20000          0\n",
       "2  15668575  Female   26            43000          0\n",
       "3  15603246  Female   27            57000          0\n",
       "4  15804002    Male   19            76000          0"
      ]
     },
     "execution_count": 31,
     "metadata": {},
     "output_type": "execute_result"
    }
   ],
   "source": [
    "# importing data \n",
    "df2=pd.read_csv(\"Social_Network_Ads.csv\")\n",
    "X=df2.iloc[:,[2,3]].values\n",
    "y=df2.iloc[:,4].values\n",
    "df2.head(5)"
   ]
  },
  {
   "cell_type": "code",
   "execution_count": 32,
   "metadata": {},
   "outputs": [],
   "source": [
    "#splitting the dataset into the training set and test set\n",
    "#model_selection=cross_validation\n",
    "from sklearn.model_selection import train_test_split\n",
    "X_train,X_test,y_train,y_test=train_test_split(X,y,test_size=0.25,random_state=0)"
   ]
  },
  {
   "cell_type": "code",
   "execution_count": 33,
   "metadata": {},
   "outputs": [],
   "source": [
    "#feature scaling\n",
    "from sklearn.preprocessing import StandardScaler\n",
    "sc=StandardScaler()\n",
    "X_train=sc.fit_transform(X_train)#it will learn and transform\n",
    "X_test=sc.transform(X_test)\n"
   ]
  },
  {
   "cell_type": "code",
   "execution_count": 34,
   "metadata": {},
   "outputs": [
    {
     "data": {
      "text/plain": [
       "DecisionTreeClassifier(class_weight=None, criterion='entropy', max_depth=None,\n",
       "                       max_features=None, max_leaf_nodes=None,\n",
       "                       min_impurity_decrease=0.0, min_impurity_split=None,\n",
       "                       min_samples_leaf=1, min_samples_split=2,\n",
       "                       min_weight_fraction_leaf=0.0, presort=False,\n",
       "                       random_state=0, splitter='best')"
      ]
     },
     "execution_count": 34,
     "metadata": {},
     "output_type": "execute_result"
    }
   ],
   "source": [
    "#Fitting Naives Bayes classififcation to the training set\n",
    "from sklearn.tree import DecisionTreeClassifier\n",
    "classifier=DecisionTreeClassifier(criterion=\"entropy\",random_state=0)\n",
    "classifier.fit(X_train,y_train)"
   ]
  },
  {
   "cell_type": "code",
   "execution_count": 35,
   "metadata": {},
   "outputs": [],
   "source": [
    "#Predicting the test set results\n",
    "y_pred=classifier.predict(X_test)"
   ]
  },
  {
   "cell_type": "code",
   "execution_count": 36,
   "metadata": {},
   "outputs": [
    {
     "data": {
      "text/plain": [
       "0.91"
      ]
     },
     "execution_count": 36,
     "metadata": {},
     "output_type": "execute_result"
    }
   ],
   "source": [
    "import sklearn\n",
    "sklearn.metrics.accuracy_score(y_test,y_pred)"
   ]
  },
  {
   "cell_type": "markdown",
   "metadata": {},
   "source": [
    "7.Develop a Naïve Bayes Classifier for the given data set and find the accuracy of the model."
   ]
  },
  {
   "cell_type": "code",
   "execution_count": 37,
   "metadata": {},
   "outputs": [],
   "source": [
    "df=pd.read_csv(\"Social_Network_Ads.csv\")\n",
    "X=df2.iloc[:,[2,3]].values\n",
    "y=df2.iloc[:,4].values"
   ]
  },
  {
   "cell_type": "code",
   "execution_count": 83,
   "metadata": {},
   "outputs": [
    {
     "data": {
      "text/plain": [
       "array([['sunny', 'hot', 'high', 'weak'],\n",
       "       ['sunny', 'hot', 'high', 'strong'],\n",
       "       ['overcast', 'hot', 'high', 'weak'],\n",
       "       ['rain', 'mild', 'high', 'weak'],\n",
       "       ['rain', 'cool', 'normal', 'weak'],\n",
       "       ['rain', 'cool', 'normal', 'strong'],\n",
       "       ['overcast', 'cool', 'normal', 'strong'],\n",
       "       ['sunny', 'mild', 'high', 'weak'],\n",
       "       ['sunny', 'cool', 'normal', 'weak'],\n",
       "       ['rain', 'mild', 'normal', 'weak'],\n",
       "       ['sunny', 'mild', 'normal', 'strong'],\n",
       "       ['overcast', 'mild', 'high', 'strong'],\n",
       "       ['overcast', 'hot', 'normal', 'weak'],\n",
       "       ['rain', 'mild', 'high', 'strong']], dtype=object)"
      ]
     },
     "execution_count": 83,
     "metadata": {},
     "output_type": "execute_result"
    }
   ],
   "source": [
    "X"
   ]
  },
  {
   "cell_type": "code",
   "execution_count": 84,
   "metadata": {},
   "outputs": [
    {
     "data": {
      "text/plain": [
       "array(['no', 'no', 'yes', 'yes', 'yes', 'no', 'yes', 'no', 'yes', 'yes',\n",
       "       'yes', 'yes', 'yes', 'no'], dtype=object)"
      ]
     },
     "execution_count": 84,
     "metadata": {},
     "output_type": "execute_result"
    }
   ],
   "source": [
    "y"
   ]
  },
  {
   "cell_type": "code",
   "execution_count": 38,
   "metadata": {},
   "outputs": [],
   "source": [
    "#splitting the dataset into the training set and test set\n",
    "#model_selection=cross_validation\n",
    "from sklearn.model_selection import train_test_split\n",
    "X_train,X_test,y_train,y_test=train_test_split(X,y,test_size=0.25,random_state=0)"
   ]
  },
  {
   "cell_type": "code",
   "execution_count": 39,
   "metadata": {},
   "outputs": [],
   "source": [
    "#feature scaling\n",
    "from sklearn.preprocessing import StandardScaler\n",
    "sc=StandardScaler()\n",
    "X_train=sc.fit_transform(X_train)#it will learn and transform\n",
    "X_test=sc.transform(X_test)\n"
   ]
  },
  {
   "cell_type": "code",
   "execution_count": 40,
   "metadata": {},
   "outputs": [
    {
     "data": {
      "text/plain": [
       "GaussianNB(priors=None, var_smoothing=1e-09)"
      ]
     },
     "execution_count": 40,
     "metadata": {},
     "output_type": "execute_result"
    }
   ],
   "source": [
    "#Fitting Naives Bayes classififcation to the training set\n",
    "from sklearn.naive_bayes import GaussianNB\n",
    "classifier=GaussianNB()\n",
    "classifier.fit(X_train,y_train)"
   ]
  },
  {
   "cell_type": "code",
   "execution_count": 41,
   "metadata": {},
   "outputs": [],
   "source": [
    "#Predicting the test set results\n",
    "y_pred=classifier.predict(X_test)"
   ]
  },
  {
   "cell_type": "code",
   "execution_count": 42,
   "metadata": {},
   "outputs": [
    {
     "data": {
      "text/plain": [
       "0.9"
      ]
     },
     "execution_count": 42,
     "metadata": {},
     "output_type": "execute_result"
    }
   ],
   "source": [
    "import sklearn\n",
    "sklearn.metrics.accuracy_score(y_pred,y_test)"
   ]
  },
  {
   "cell_type": "markdown",
   "metadata": {},
   "source": [
    "8.\tDevelop a Logistic Regression classifier for the given data set and find the accuracy of the model"
   ]
  },
  {
   "cell_type": "code",
   "execution_count": 43,
   "metadata": {},
   "outputs": [
    {
     "name": "stderr",
     "output_type": "stream",
     "text": [
      "/home/wajoud/anaconda3/lib/python3.7/site-packages/sklearn/linear_model/logistic.py:432: FutureWarning: Default solver will be changed to 'lbfgs' in 0.22. Specify a solver to silence this warning.\n",
      "  FutureWarning)\n"
     ]
    },
    {
     "data": {
      "text/plain": [
       "LogisticRegression(C=1.0, class_weight=None, dual=False, fit_intercept=True,\n",
       "                   intercept_scaling=1, l1_ratio=None, max_iter=100,\n",
       "                   multi_class='warn', n_jobs=None, penalty='l2',\n",
       "                   random_state=None, solver='warn', tol=0.0001, verbose=0,\n",
       "                   warm_start=False)"
      ]
     },
     "execution_count": 43,
     "metadata": {},
     "output_type": "execute_result"
    }
   ],
   "source": [
    "from sklearn.linear_model import LogisticRegression\n",
    "classifier=LogisticRegression()\n",
    "classifier.fit(X_train,y_train)"
   ]
  },
  {
   "cell_type": "code",
   "execution_count": 44,
   "metadata": {},
   "outputs": [],
   "source": [
    "#Predicting the test set results\n",
    "y_pred=classifier.predict(X_test)"
   ]
  },
  {
   "cell_type": "code",
   "execution_count": 45,
   "metadata": {},
   "outputs": [
    {
     "data": {
      "text/plain": [
       "0.89"
      ]
     },
     "execution_count": 45,
     "metadata": {},
     "output_type": "execute_result"
    }
   ],
   "source": [
    "import sklearn\n",
    "sklearn.metrics.accuracy_score(y_pred,y_test)"
   ]
  },
  {
   "cell_type": "markdown",
   "metadata": {},
   "source": [
    "9.\tDevelop a K-NN model for the given data set and find the accuracy of the model."
   ]
  },
  {
   "cell_type": "code",
   "execution_count": 46,
   "metadata": {},
   "outputs": [
    {
     "data": {
      "text/plain": [
       "KNeighborsClassifier(algorithm='auto', leaf_size=30, metric='minkowski',\n",
       "                     metric_params=None, n_jobs=None, n_neighbors=5, p=2,\n",
       "                     weights='uniform')"
      ]
     },
     "execution_count": 46,
     "metadata": {},
     "output_type": "execute_result"
    }
   ],
   "source": [
    "from sklearn.neighbors import KNeighborsClassifier\n",
    "classifier=KNeighborsClassifier()\n",
    "classifier.fit(X_train,y_train)"
   ]
  },
  {
   "cell_type": "code",
   "execution_count": 47,
   "metadata": {},
   "outputs": [],
   "source": [
    "#Predicting the test set results\n",
    "y_pred=classifier.predict(X_test)\n"
   ]
  },
  {
   "cell_type": "code",
   "execution_count": 48,
   "metadata": {},
   "outputs": [
    {
     "name": "stdout",
     "output_type": "stream",
     "text": [
      "0.93\n"
     ]
    },
    {
     "data": {
      "text/plain": [
       "array([[64,  3],\n",
       "       [ 4, 29]])"
      ]
     },
     "execution_count": 48,
     "metadata": {},
     "output_type": "execute_result"
    }
   ],
   "source": [
    "import sklearn\n",
    "print(sklearn.metrics.accuracy_score(y_pred,y_test))\n",
    "cm=sklearn.metrics.confusion_matrix(y_pred,y_test)\n",
    "cm"
   ]
  },
  {
   "cell_type": "code",
   "execution_count": 49,
   "metadata": {},
   "outputs": [
    {
     "name": "stdout",
     "output_type": "stream",
     "text": [
      "Accuracy: 0.93\n",
      "Misclassification: 0.06999999999999995\n",
      "type1 error: 3\n",
      "type2 error: 4\n",
      "sensitivity: 0.9411764705882353\n",
      "specifivity: 0.90625\n"
     ]
    }
   ],
   "source": [
    "#18.\tWrite the  Python code to calculate the following\n",
    "#a.\tAccuracy \n",
    "#b.\tMisclassification  \n",
    "#c.\tType-1 and Type-2 error rates\n",
    "#d.\tSensitivity\n",
    "#e.\tSpecificity\n",
    "Accuracy=(cm[0,0]+cm[1,1])/(cm[0,0]+cm[0,1]+cm[1,0]+cm[1,1])\n",
    "Misclassification=1-Accuracy\n",
    "type1er=cm[0,1] #FP\n",
    "type2er=cm[1,0] #FN\n",
    "sensitivity=(cm[0,0])/(cm[0,0]+cm[1,0]) #recall or true positive rate\n",
    "specifivity=(cm[1,1])/(cm[1,1]+cm[0,1]) #true negativity rate\n",
    "print(\"Accuracy:\",Accuracy)\n",
    "print(\"Misclassification:\",Misclassification)\n",
    "print(\"type1 error:\",type1er)\n",
    "print(\"type2 error:\",type2er)\n",
    "print(\"sensitivity:\",sensitivity)\n",
    "print(\"specifivity:\",specifivity)"
   ]
  },
  {
   "cell_type": "markdown",
   "metadata": {},
   "source": [
    "10.\tDevelop a linear regression for the given data set and find the accuracy of the model."
   ]
  },
  {
   "cell_type": "code",
   "execution_count": 50,
   "metadata": {},
   "outputs": [],
   "source": [
    "X=df2.iloc[:,[2,3]].values\n",
    "y=df2.iloc[:,4].values"
   ]
  },
  {
   "cell_type": "code",
   "execution_count": 51,
   "metadata": {},
   "outputs": [],
   "source": [
    "#splitting the dataset into the training set and test set\n",
    "#model_selection=cross_validation\n",
    "from sklearn.model_selection import train_test_split\n",
    "X_train,X_test,y_train,y_test=train_test_split(X,y,test_size=0.25,random_state=0)"
   ]
  },
  {
   "cell_type": "code",
   "execution_count": 52,
   "metadata": {},
   "outputs": [
    {
     "data": {
      "text/plain": [
       "LinearRegression(copy_X=True, fit_intercept=True, n_jobs=None, normalize=False)"
      ]
     },
     "execution_count": 52,
     "metadata": {},
     "output_type": "execute_result"
    }
   ],
   "source": [
    "from sklearn.linear_model import LinearRegression\n",
    "classifier=LinearRegression()\n",
    "classifier.fit(X_train,y_train)"
   ]
  },
  {
   "cell_type": "code",
   "execution_count": 53,
   "metadata": {},
   "outputs": [],
   "source": [
    "# #rom sklearn.decomposition import PCA as p\n",
    "# pc=p(n_components=1)\n",
    "# X_train=pc.fit_transform(X_train)\n",
    "# X_test=pc.transform(X_test)\n",
    "# #X_train"
   ]
  },
  {
   "cell_type": "code",
   "execution_count": 54,
   "metadata": {},
   "outputs": [],
   "source": [
    "#Predicting the test set results\n",
    "y_pred=classifier.predict(X_test)"
   ]
  },
  {
   "cell_type": "code",
   "execution_count": 77,
   "metadata": {},
   "outputs": [
    {
     "data": {
      "text/plain": [
       "0.94"
      ]
     },
     "execution_count": 77,
     "metadata": {},
     "output_type": "execute_result"
    }
   ],
   "source": [
    "import sklearn\n",
    "sklearn.metrics.accuracy_score(y_pred,y_test)"
   ]
  },
  {
   "cell_type": "markdown",
   "metadata": {},
   "source": [
    "12.Develop a random forest for the given data set and find the accuracy of the model."
   ]
  },
  {
   "cell_type": "code",
   "execution_count": 56,
   "metadata": {},
   "outputs": [
    {
     "name": "stderr",
     "output_type": "stream",
     "text": [
      "/home/wajoud/anaconda3/lib/python3.7/site-packages/sklearn/ensemble/forest.py:245: FutureWarning: The default value of n_estimators will change from 10 in version 0.20 to 100 in 0.22.\n",
      "  \"10 in version 0.20 to 100 in 0.22.\", FutureWarning)\n"
     ]
    },
    {
     "data": {
      "text/plain": [
       "RandomForestClassifier(bootstrap=True, class_weight=None, criterion='gini',\n",
       "                       max_depth=None, max_features='auto', max_leaf_nodes=None,\n",
       "                       min_impurity_decrease=0.0, min_impurity_split=None,\n",
       "                       min_samples_leaf=1, min_samples_split=2,\n",
       "                       min_weight_fraction_leaf=0.0, n_estimators=10,\n",
       "                       n_jobs=None, oob_score=False, random_state=None,\n",
       "                       verbose=0, warm_start=False)"
      ]
     },
     "execution_count": 56,
     "metadata": {},
     "output_type": "execute_result"
    }
   ],
   "source": [
    "from sklearn.ensemble import RandomForestClassifier\n",
    "classifier=RandomForestClassifier()\n",
    "classifier.fit(X_train,y_train)"
   ]
  },
  {
   "cell_type": "code",
   "execution_count": 57,
   "metadata": {},
   "outputs": [],
   "source": [
    "y_pred=classifier.predict(X_test)"
   ]
  },
  {
   "cell_type": "code",
   "execution_count": 58,
   "metadata": {},
   "outputs": [
    {
     "data": {
      "text/plain": [
       "0.94"
      ]
     },
     "execution_count": 58,
     "metadata": {},
     "output_type": "execute_result"
    }
   ],
   "source": [
    "sklearn.metrics.accuracy_score(y_pred,y_test)"
   ]
  },
  {
   "cell_type": "markdown",
   "metadata": {},
   "source": [
    "14.\tWrite the Python code to compute entropy and information gain"
   ]
  },
  {
   "cell_type": "code",
   "execution_count": 59,
   "metadata": {},
   "outputs": [],
   "source": [
    "df=pd.read_csv(\"sport1.csv\")"
   ]
  },
  {
   "cell_type": "code",
   "execution_count": 60,
   "metadata": {},
   "outputs": [],
   "source": [
    "df=df.iloc[:,1:]"
   ]
  },
  {
   "cell_type": "code",
   "execution_count": 61,
   "metadata": {},
   "outputs": [],
   "source": [
    "c=0\n",
    "y=0\n",
    "n=0\n",
    "for i in df.values:\n",
    "    c=c+1\n",
    "    if i[-1]=='yes':\n",
    "        y=y+1\n",
    "    else:\n",
    "        n=n+1\n",
    "tot_wt=-((y/c)*(np.log10(y/c)/np.log10(2))+(n/c)*(np.log10(n/c)/np.log10(2)))"
   ]
  },
  {
   "cell_type": "code",
   "execution_count": 62,
   "metadata": {},
   "outputs": [
    {
     "data": {
      "text/plain": [
       "0.9402859586706309"
      ]
     },
     "execution_count": 62,
     "metadata": {},
     "output_type": "execute_result"
    }
   ],
   "source": [
    "p=len(df)\n",
    "tot_wt"
   ]
  },
  {
   "cell_type": "code",
   "execution_count": 63,
   "metadata": {},
   "outputs": [],
   "source": [
    "\n",
    "def entropy(s):\n",
    "    c=0\n",
    "    y=0\n",
    "    n=0\n",
    "    for i in s.values:\n",
    "        c=c+1\n",
    "        if i[-1]=='yes':\n",
    "            y=y+1\n",
    "        else:\n",
    "            n=n+1\n",
    "        #print(\"tot\",c)\n",
    "        #print(\"yes\",y)\n",
    "        if n==0:\n",
    "            j=0\n",
    "        else:\n",
    "            j=(n/c)*(np.log10(n/c)/np.log10(2))\n",
    "        if y==0:\n",
    "            k=0\n",
    "        else:\n",
    "            k=(y/c)*(np.log10(y/c)/np.log10(2))\n",
    "    return -(j+k)"
   ]
  },
  {
   "cell_type": "code",
   "execution_count": 64,
   "metadata": {},
   "outputs": [],
   "source": [
    "def information_gain(s,colname):\n",
    "    g=0\n",
    "    for i in np.unique(df[colname].values):\n",
    "        l=len(s[s[colname]==i])\n",
    "        g=g+(l/p)*entropy(s[s[colname]==i])\n",
    "    return tot_wt-g\n",
    "        \n",
    "        \n",
    "    "
   ]
  },
  {
   "cell_type": "code",
   "execution_count": 65,
   "metadata": {},
   "outputs": [
    {
     "name": "stdout",
     "output_type": "stream",
     "text": [
      "0.2467498197744391\n",
      "0.029222565658954647\n",
      "0.15183550136234147\n",
      "0.04812703040826927\n"
     ]
    }
   ],
   "source": [
    "for i in df.columns[:-1]:\n",
    "    print(information_gain(df,i))\n"
   ]
  },
  {
   "cell_type": "markdown",
   "metadata": {},
   "source": [
    "15.Write the  Python code todemonstrate conditional probability "
   ]
  },
  {
   "cell_type": "code",
   "execution_count": 66,
   "metadata": {},
   "outputs": [],
   "source": [
    "def prob(l,a,k):\n",
    "    n=len(df[df[l]==a][df['Enjoy sport']==k])\n",
    "    k=len(df[df[l]==a])\n",
    "    return n/k"
   ]
  },
  {
   "cell_type": "code",
   "execution_count": 67,
   "metadata": {},
   "outputs": [
    {
     "name": "stdout",
     "output_type": "stream",
     "text": [
      "0.0413265306122449\n",
      "0.027551020408163266\n",
      "0.0413265306122449\n",
      "is going to play\n"
     ]
    },
    {
     "name": "stderr",
     "output_type": "stream",
     "text": [
      "/home/wajoud/anaconda3/lib/python3.7/site-packages/ipykernel_launcher.py:2: UserWarning: Boolean Series key will be reindexed to match DataFrame index.\n",
      "  \n"
     ]
    }
   ],
   "source": [
    "def naive_bayes(s,c,h,m):\n",
    "    yc=len(df[df['Enjoy sport']=='yes'])\n",
    "    nc=len(df[df['Enjoy sport']=='no'])\n",
    "    n=len(df)\n",
    "    i,j,k,l=df.columns[:-1]\n",
    "    vsb=(yc/n)*prob(i,s,'yes')*prob(j,c,'yes')*prob(k,h,'yes')*prob(l,m,'yes')\n",
    "    vnb=(yc/n)*prob(i,s,'no')*prob(j,c,'no')*prob(k,h,'no')*prob(l,m,'no')\n",
    "    print(vsb)\n",
    "    print(vnb)\n",
    "    if vsb>vnb:\n",
    "        print(vsb)\n",
    "        print(\"is going to play\")\n",
    "    else:\n",
    "        print(vnb)\n",
    "        print(\"not going\")\n",
    "naive_bayes('sunny','cool','high','strong')\n",
    "    "
   ]
  },
  {
   "cell_type": "markdown",
   "metadata": {},
   "source": [
    "16.Write the  Python code to compute Euclidean Distance between data points"
   ]
  },
  {
   "cell_type": "code",
   "execution_count": 68,
   "metadata": {},
   "outputs": [],
   "source": [
    "def euclidean_dist(x1,x2,y1,y2):\n",
    "    dist=np.sqrt((x2-x1)**2+(y2-y1)**2)\n",
    "    return dist"
   ]
  },
  {
   "cell_type": "code",
   "execution_count": 69,
   "metadata": {},
   "outputs": [
    {
     "data": {
      "text/plain": [
       "5.830951894845301"
      ]
     },
     "execution_count": 69,
     "metadata": {},
     "output_type": "execute_result"
    }
   ],
   "source": [
    "euclidean_dist(3,6,8,3)"
   ]
  },
  {
   "cell_type": "markdown",
   "metadata": {},
   "source": [
    "17.Write the  Python code to calculate covariance matrix, Eigen values and Eigen vectors \n"
   ]
  },
  {
   "cell_type": "code",
   "execution_count": 70,
   "metadata": {},
   "outputs": [
    {
     "name": "stdout",
     "output_type": "stream",
     "text": [
      "eigen vector [[-0.63566346 -0.4386726  -0.11958179]\n",
      " [-0.381541    0.85683887 -0.54787598]\n",
      " [-0.6710875   0.27091236  0.82796867]]\n",
      "eigen value [13.36763265  3.24077366 -2.60840631]\n"
     ]
    }
   ],
   "source": [
    "A = np.array([[9,2,3],[2,3,4],[9,5,2]])\n",
    "w,v = np.linalg.eig(A)\n",
    "print('eigen vector',v)\n",
    "print('eigen value',w)"
   ]
  },
  {
   "cell_type": "code",
   "execution_count": 71,
   "metadata": {},
   "outputs": [
    {
     "data": {
      "text/plain": [
       "array([[14.33333333, -3.        , 11.16666667],\n",
       "       [-3.        ,  1.        , -3.5       ],\n",
       "       [11.16666667, -3.5       , 12.33333333]])"
      ]
     },
     "execution_count": 71,
     "metadata": {},
     "output_type": "execute_result"
    }
   ],
   "source": [
    "np.cov(A)"
   ]
  },
  {
   "cell_type": "code",
   "execution_count": 72,
   "metadata": {},
   "outputs": [],
   "source": [
    "A=np.array([1,5,4,7,9,6])\n",
    "B=np.array([2,9,7,4,1,6])\n",
    "a=A.mean()\n",
    "b=B.mean()\n",
    "covAB=np.sum((A-a)*(B-b))\n",
    "covBA=covAB\n",
    "covAA=np.sum((A-a)**2)\n",
    "covBB=np.sum((B-b)**2)"
   ]
  },
  {
   "cell_type": "code",
   "execution_count": 73,
   "metadata": {},
   "outputs": [
    {
     "data": {
      "text/plain": [
       "array([[37.33333333, -6.66666667],\n",
       "       [-6.66666667, 46.83333333]])"
      ]
     },
     "execution_count": 73,
     "metadata": {},
     "output_type": "execute_result"
    }
   ],
   "source": [
    "np.array([[covAA,covAB],[covBA,covBB]])\n"
   ]
  },
  {
   "cell_type": "code",
   "execution_count": 74,
   "metadata": {},
   "outputs": [
    {
     "name": "stdout",
     "output_type": "stream",
     "text": [
      "[5, 5, 4, 4]\n"
     ]
    },
    {
     "data": {
      "text/plain": [
       "400"
      ]
     },
     "execution_count": 74,
     "metadata": {},
     "output_type": "execute_result"
    }
   ],
   "source": [
    "#apply PAC for the given data set \n",
    "df3=pd.read_csv(\"sport1.csv\")\n",
    "df3=df3.iloc[:,1:]\n",
    "n=[]\n",
    "for i in range(len(df3.columns)-1):\n",
    "    k=df3.iloc[:,i].unique()\n",
    "    n.append(len(k)+2)#y +2    \n",
    "print(n)\n",
    "Hs=np.prod(n)\n",
    "Hs"
   ]
  },
  {
   "cell_type": "code",
   "execution_count": 75,
   "metadata": {},
   "outputs": [
    {
     "name": "stdout",
     "output_type": "stream",
     "text": [
      "Number of training examples required is :  259.3156856932418\n"
     ]
    }
   ],
   "source": [
    "def num_train_eg(hs,D,E):\n",
    "    m=(1/E)*(np.log10(hs)/np.log10(2)+np.log10(1/D)/np.log10(2))\n",
    "    return m\n",
    "print(\"Number of training examples required is : \",num_train_eg(Hs,0.05,0.05))\n",
    "#E-true error D-traing error"
   ]
  },
  {
   "cell_type": "code",
   "execution_count": 76,
   "metadata": {},
   "outputs": [
    {
     "name": "stdout",
     "output_type": "stream",
     "text": [
      "Number of training examples required is :  259.3156856932418\n"
     ]
    }
   ],
   "source": [
    "#agnestic\n",
    "def train_req(hs,D,E):\n",
    "    m=(1/(2*(E**2)))*(np.log10(hs)/np.log10(2)+np.log10(1/D)/np.log10(2))\n",
    "    return m\n",
    "print(\"Number of training examples required is : \",num_train_eg(Hs,0.05,0.05))"
   ]
  },
  {
   "cell_type": "code",
   "execution_count": null,
   "metadata": {},
   "outputs": [],
   "source": []
  }
 ],
 "metadata": {
  "kernelspec": {
   "display_name": "Python 3",
   "language": "python",
   "name": "python3"
  },
  "language_info": {
   "codemirror_mode": {
    "name": "ipython",
    "version": 3
   },
   "file_extension": ".py",
   "mimetype": "text/x-python",
   "name": "python",
   "nbconvert_exporter": "python",
   "pygments_lexer": "ipython3",
   "version": "3.7.3"
  }
 },
 "nbformat": 4,
 "nbformat_minor": 2
}
